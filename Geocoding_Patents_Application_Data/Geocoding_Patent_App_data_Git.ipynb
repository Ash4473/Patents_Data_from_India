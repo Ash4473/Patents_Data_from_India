{
 "cells": [
  {
   "cell_type": "markdown",
   "metadata": {},
   "source": [
    "#### Objective of this notebook is to automate geocoding of inventor addresses from patent applications data using Google Maps API"
   ]
  },
  {
   "cell_type": "code",
   "execution_count": null,
   "metadata": {},
   "outputs": [],
   "source": [
    "pip install -U googlemaps"
   ]
  },
  {
   "cell_type": "code",
   "execution_count": null,
   "metadata": {},
   "outputs": [],
   "source": [
    "## Listing all packages that will be used in this notebook\n",
    "import googlemaps\n",
    "import pandas as pd\n",
    "import numpy\n",
    "import os\n",
    "\n",
    "from datetime import datetime"
   ]
  },
  {
   "cell_type": "code",
   "execution_count": null,
   "metadata": {},
   "outputs": [],
   "source": [
    "## Entering the API key\n",
    "gmaps = googlemaps.Client(key= 'put your key here') # Replace 'put your key here' with your Google maps key"
   ]
  },
  {
   "cell_type": "code",
   "execution_count": null,
   "metadata": {},
   "outputs": [],
   "source": [
    "# Changing the working Directory\n",
    "os.chdir('put the directory path here')"
   ]
  },
  {
   "cell_type": "markdown",
   "metadata": {},
   "source": [
    "I have three different excel files containing raw address data of inventors, each for decades 1990, 2000, 2010. Following gives example for one of them. By changing the name of files, the process can be repeated for each one of them- the benefit of automation!"
   ]
  },
  {
   "cell_type": "code",
   "execution_count": null,
   "metadata": {},
   "outputs": [],
   "source": [
    "## Specifying input and output files \n",
    "start_year=1990 ## change to 2000, 2010 for the other two files\n",
    "\n",
    "INPUT_FILE= 'patent_address_cleaned_Domestic{}.xlsx'.format(start_year)\n",
    "\n",
    "OUTPUT_FILE= os.path.join(os.getcwd(), 'AddressData_{}.xls'.format(start_year))"
   ]
  },
  {
   "cell_type": "code",
   "execution_count": null,
   "metadata": {},
   "outputs": [],
   "source": [
    "## Feeding in the data\n",
    "address_data = pd.read_excel(INPUT_FILE)\n",
    "\n",
    "## Creating a new DataFrame that will store the geocoded data\n",
    "add_data = pd.DataFrame(columns = [\"formatted_address\",\"street_number\",\"route\",\"sublocality_level_3\",\n",
    "                                   \"sublocality_level_2\",\"sublocality_level_1\",\"locality\",\n",
    "                                   \"administrative_area_level_2\",\"administrative_area_level_1\",\n",
    "                                   \"country\",\"postal_code\", \"lat\", \"lng\", \"str_raw\", \"input_check\"])\n",
    "col_names= list(add_data.columns)"
   ]
  },
  {
   "cell_type": "code",
   "execution_count": null,
   "metadata": {},
   "outputs": [],
   "source": [
    "## Defining a function that will put the results from geocoded addresses in a proper format\n",
    "def cur_obs(current_address):\n",
    "    geocode_result = gmaps.geocode(current_address) ## gmaps.geocode() yields the geocoded address. \n",
    "    # Objective is to put the output of this data in a dataframe\n",
    "     \n",
    "    this_obs= pd.DataFrame(columns = col_names) # Initiates an obs that will contain the results from geocode_result\n",
    "    this_obs['input_check']= [current_address]\n",
    "    ## Getting the lat and long\n",
    "    geometry= geocode_result[0].get('geometry')\n",
    "    obs= geometry.get('location')\n",
    "    this_obs['lat']= [obs.get('lat')]\n",
    "    this_obs['lng']= [obs.get('lng')]\n",
    "    \n",
    "    ## other components of address\n",
    "    this_obs['formatted_address'] = [geocode_result[0].get('formatted_address')]\n",
    "    comps= geocode_result[0].get('address_components')\n",
    "    this_obs['str_raw'] = [comps]\n",
    "    for i in range(len(comps)):\n",
    "        if 'street_number' in comps[i].get('types'):\n",
    "            this_obs['street_number']= [comps[i].get('long_name')]\n",
    "        if 'route' in comps[i].get('types'):\n",
    "            this_obs['route']= [comps[i].get('long_name')]\n",
    "        if 'sublocality_level_1' in comps[i].get('types'):\n",
    "            this_obs['sublocality_level_1']= [comps[i].get('long_name')]\n",
    "        if 'sublocality_level_2' in comps[i].get('types'):\n",
    "            this_obs['sublocality_level_2']= [comps[i].get('long_name')]\n",
    "        if 'sublocality_level_3' in comps[i].get('types'):\n",
    "            this_obs['sublocality_level_3']= [comps[i].get('long_name')]\n",
    "        if 'locality' in comps[i].get('types'):\n",
    "            this_obs['locality']= [comps[i].get('long_name')]\n",
    "        if 'administrative_area_level_1' in comps[i].get('types'):\n",
    "            this_obs['administrative_area_level_1']= [comps[i].get('long_name')]\n",
    "        if 'administrative_area_level_2' in comps[i].get('types'):\n",
    "            this_obs['administrative_area_level_2']= [comps[i].get('long_name')]\n",
    "        if 'country' in comps[i].get('types'):\n",
    "            this_obs['country']= [comps[i].get('long_name')]\n",
    "        if 'postal_code' in comps[i].get('types'):\n",
    "            this_obs['postal_code']= [comps[i].get('long_name')]\n",
    "    \n",
    "    return(this_obs)"
   ]
  },
  {
   "cell_type": "code",
   "execution_count": null,
   "metadata": {},
   "outputs": [],
   "source": [
    "## The input file has raw addresses in column named \"add\"\n",
    "## Looping over thsi column and appending the resulst in the dataframe called add_data\n",
    "for n in range(len(address_data['add'])):\n",
    "    curr_add= address_data['add'][n]\n",
    "    \n",
    "    current_obs= cur_obs(current_address= curr_add) ## applying our cur_obs function\n",
    "    \n",
    "    add_data= add_data.append(current_obs)\n",
    "\n",
    "# Transferring data to output file\n",
    "add_data.to_excel(OUTPUT_FILE) "
   ]
  }
 ],
 "metadata": {
  "kernelspec": {
   "display_name": "Python 3",
   "language": "python",
   "name": "python3"
  },
  "language_info": {
   "codemirror_mode": {
    "name": "ipython",
    "version": 3
   },
   "file_extension": ".py",
   "mimetype": "text/x-python",
   "name": "python",
   "nbconvert_exporter": "python",
   "pygments_lexer": "ipython3",
   "version": "3.8.5"
  }
 },
 "nbformat": 4,
 "nbformat_minor": 4
}
